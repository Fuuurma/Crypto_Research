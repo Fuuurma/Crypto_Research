{
 "cells": [
  {
   "cell_type": "code",
   "execution_count": null,
   "metadata": {},
   "outputs": [],
   "source": [
    "import pandas as pd\n",
    "import numpy as np\n",
    "import json\n",
    "import csv\n",
    "import requests\n",
    "import datetime as dt\n",
    "from sqlalchemy import create_engine\n",
    "from sqlalchemy import MetaData"
   ]
  },
  {
   "cell_type": "code",
   "execution_count": null,
   "metadata": {},
   "outputs": [],
   "source": [
    "def connect_db(database='fees'):\n",
    "    user='root'\n",
    "    password='240699'\n",
    "    host='localhost'\n",
    "    database=database\n",
    "    \n",
    "\n",
    "    # Connect to the database\n",
    "    engine = create_engine(f\"mysql+pymysql://{user}:{password}@{host}/{database}\")\n",
    "    try:\n",
    "        connection = engine.connect()\n",
    "        return connection\n",
    "    except Exception as e:\n",
    "        raise e"
   ]
  }
 ],
 "metadata": {
  "language_info": {
   "name": "python"
  }
 },
 "nbformat": 4,
 "nbformat_minor": 2
}
