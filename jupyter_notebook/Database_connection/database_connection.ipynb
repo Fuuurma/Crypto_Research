{
 "cells": [
  {
   "cell_type": "code",
   "execution_count": 1,
   "id": "3a5f1bb6",
   "metadata": {},
   "outputs": [],
   "source": [
    "from sqlalchemy import MetaData, create_engine\n"
   ]
  },
  {
   "cell_type": "code",
   "execution_count": 2,
   "id": "6f1fae32",
   "metadata": {},
   "outputs": [],
   "source": [
    "def connect_db(database = 'coins'):\n",
    "    user='root'\n",
    "    password='240699'\n",
    "    host='localhost'\n",
    "    database = database\n",
    "    \n",
    "\n",
    "    # Connect to the database\n",
    "    engine = create_engine(f\"mysql+pymysql://{user}:{password}@{host}/{database}\")\n",
    "    try:\n",
    "        connection = engine.connect()\n",
    "        return connection\n",
    "    except Exception as e:\n",
    "        raise e"
   ]
  },
  {
   "cell_type": "code",
   "execution_count": null,
   "id": "9bbc6085",
   "metadata": {},
   "outputs": [],
   "source": []
  },
  {
   "cell_type": "code",
   "execution_count": null,
   "id": "31296a47",
   "metadata": {},
   "outputs": [],
   "source": []
  },
  {
   "cell_type": "code",
   "execution_count": null,
   "id": "a47596d1",
   "metadata": {},
   "outputs": [],
   "source": []
  }
 ],
 "metadata": {
  "kernelspec": {
   "display_name": "Python 3 (ipykernel)",
   "language": "python",
   "name": "python3"
  },
  "language_info": {
   "codemirror_mode": {
    "name": "ipython",
    "version": 3
   },
   "file_extension": ".py",
   "mimetype": "text/x-python",
   "name": "python",
   "nbconvert_exporter": "python",
   "pygments_lexer": "ipython3",
   "version": "3.10.7"
  }
 },
 "nbformat": 4,
 "nbformat_minor": 5
}
