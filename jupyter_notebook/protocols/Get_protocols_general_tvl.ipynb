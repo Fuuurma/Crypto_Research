{
 "cells": [
  {
   "cell_type": "code",
   "execution_count": 94,
   "id": "001c940e",
   "metadata": {},
   "outputs": [],
   "source": [
    "\n",
    "import nbimporter\n",
    "\n",
    "from Database_connection.database_connection import connect_db\n",
    "import requests\n",
    "import pandas as pd\n",
    "import numpy as np\n",
    "from datetime import datetime\n",
    "\n"
   ]
  },
  {
   "cell_type": "markdown",
   "metadata": {},
   "source": [
    "## Protocols General Data\n"
   ]
  },
  {
   "cell_type": "code",
   "execution_count": 80,
   "id": "24993842",
   "metadata": {},
   "outputs": [],
   "source": [
    "response = requests.get('https://api.llama.fi/protocols')\n",
    "data = response.json()\n",
    "df = pd.DataFrame.from_dict(data, orient = 'Columns')"
   ]
  },
  {
   "cell_type": "code",
   "execution_count": null,
   "id": "9ac1457e",
   "metadata": {},
   "outputs": [],
   "source": []
  },
  {
   "cell_type": "code",
   "execution_count": 82,
   "metadata": {},
   "outputs": [],
   "source": [
    "df = df [[\n",
    "       'id', 'name', 'address', 'symbol', 'url', 'description', 'chain',\n",
    "       'logo', 'audits', 'gecko_id', 'category',\n",
    "#        'chains', \n",
    "    'module', 'twitter', 'listedAt',\n",
    "       'slug', 'tvl',\n",
    "#     'chainTvls', 'forkedFrom', 'oracles', \n",
    "    'change_1h', 'change_1d', 'change_7d',\n",
    "       # 'tokenBreakdowns', \n",
    "]]"
   ]
  },
  {
   "cell_type": "code",
   "execution_count": 75,
   "metadata": {},
   "outputs": [
    {
     "ename": "KeyError",
     "evalue": "\"['cmcId', 'mcap', 'treasury', 'audit_links', 'governanceID', 'github', 'parentProtocol', 'staking', 'pool2'] not in index\"",
     "output_type": "error",
     "traceback": [
      "\u001b[1;31m---------------------------------------------------------------------------\u001b[0m",
      "\u001b[1;31mKeyError\u001b[0m                                  Traceback (most recent call last)",
      "\u001b[1;32mc:\\Users\\34633\\Desktop\\FE Design\\jupyter_notebook\\protocols\\Get_protocols_general_tvl.ipynb Cell 6\u001b[0m line \u001b[0;36m1\n\u001b[1;32m----> <a href='vscode-notebook-cell:/c%3A/Users/34633/Desktop/FE%20Design/jupyter_notebook/protocols/Get_protocols_general_tvl.ipynb#X10sZmlsZQ%3D%3D?line=0'>1</a>\u001b[0m df \u001b[39m=\u001b[39m df[[\u001b[39m'\u001b[39;49m\u001b[39mid\u001b[39;49m\u001b[39m'\u001b[39;49m, \u001b[39m'\u001b[39;49m\u001b[39mname\u001b[39;49m\u001b[39m'\u001b[39;49m, \u001b[39m'\u001b[39;49m\u001b[39maddress\u001b[39;49m\u001b[39m'\u001b[39;49m, \u001b[39m'\u001b[39;49m\u001b[39msymbol\u001b[39;49m\u001b[39m'\u001b[39;49m, \u001b[39m'\u001b[39;49m\u001b[39murl\u001b[39;49m\u001b[39m'\u001b[39;49m, \u001b[39m'\u001b[39;49m\u001b[39mdescription\u001b[39;49m\u001b[39m'\u001b[39;49m, \u001b[39m'\u001b[39;49m\u001b[39mchain\u001b[39;49m\u001b[39m'\u001b[39;49m,\n\u001b[0;32m      <a href='vscode-notebook-cell:/c%3A/Users/34633/Desktop/FE%20Design/jupyter_notebook/protocols/Get_protocols_general_tvl.ipynb#X10sZmlsZQ%3D%3D?line=1'>2</a>\u001b[0m        \u001b[39m'\u001b[39;49m\u001b[39mlogo\u001b[39;49m\u001b[39m'\u001b[39;49m, \u001b[39m'\u001b[39;49m\u001b[39maudits\u001b[39;49m\u001b[39m'\u001b[39;49m, \u001b[39m'\u001b[39;49m\u001b[39mgecko_id\u001b[39;49m\u001b[39m'\u001b[39;49m, \u001b[39m'\u001b[39;49m\u001b[39mcmcId\u001b[39;49m\u001b[39m'\u001b[39;49m, \u001b[39m'\u001b[39;49m\u001b[39mcategory\u001b[39;49m\u001b[39m'\u001b[39;49m,\n\u001b[0;32m      <a href='vscode-notebook-cell:/c%3A/Users/34633/Desktop/FE%20Design/jupyter_notebook/protocols/Get_protocols_general_tvl.ipynb#X10sZmlsZQ%3D%3D?line=2'>3</a>\u001b[0m        \u001b[39m'\u001b[39;49m\u001b[39mmodule\u001b[39;49m\u001b[39m'\u001b[39;49m, \u001b[39m'\u001b[39;49m\u001b[39mtwitter\u001b[39;49m\u001b[39m'\u001b[39;49m, \u001b[39m'\u001b[39;49m\u001b[39mlistedAt\u001b[39;49m\u001b[39m'\u001b[39;49m,\n\u001b[0;32m      <a href='vscode-notebook-cell:/c%3A/Users/34633/Desktop/FE%20Design/jupyter_notebook/protocols/Get_protocols_general_tvl.ipynb#X10sZmlsZQ%3D%3D?line=3'>4</a>\u001b[0m        \u001b[39m'\u001b[39;49m\u001b[39mslug\u001b[39;49m\u001b[39m'\u001b[39;49m, \u001b[39m'\u001b[39;49m\u001b[39mtvl\u001b[39;49m\u001b[39m'\u001b[39;49m, \n\u001b[0;32m      <a href='vscode-notebook-cell:/c%3A/Users/34633/Desktop/FE%20Design/jupyter_notebook/protocols/Get_protocols_general_tvl.ipynb#X10sZmlsZQ%3D%3D?line=4'>5</a>\u001b[0m        \u001b[39m# 'chainTvls','chains','tokenBreakdowns', 'forkedFrom', 'oracles' Creates troble cuase its a dict \u001b[39;49;00m\n\u001b[0;32m      <a href='vscode-notebook-cell:/c%3A/Users/34633/Desktop/FE%20Design/jupyter_notebook/protocols/Get_protocols_general_tvl.ipynb#X10sZmlsZQ%3D%3D?line=5'>6</a>\u001b[0m        \u001b[39m'\u001b[39;49m\u001b[39mchange_1h\u001b[39;49m\u001b[39m'\u001b[39;49m, \u001b[39m'\u001b[39;49m\u001b[39mchange_1d\u001b[39;49m\u001b[39m'\u001b[39;49m, \u001b[39m'\u001b[39;49m\u001b[39mchange_7d\u001b[39;49m\u001b[39m'\u001b[39;49m,\n\u001b[0;32m      <a href='vscode-notebook-cell:/c%3A/Users/34633/Desktop/FE%20Design/jupyter_notebook/protocols/Get_protocols_general_tvl.ipynb#X10sZmlsZQ%3D%3D?line=6'>7</a>\u001b[0m        \u001b[39m'\u001b[39;49m\u001b[39mmcap\u001b[39;49m\u001b[39m'\u001b[39;49m, \u001b[39m'\u001b[39;49m\u001b[39mtreasury\u001b[39;49m\u001b[39m'\u001b[39;49m, \u001b[39m'\u001b[39;49m\u001b[39maudit_links\u001b[39;49m\u001b[39m'\u001b[39;49m,\n\u001b[0;32m      <a href='vscode-notebook-cell:/c%3A/Users/34633/Desktop/FE%20Design/jupyter_notebook/protocols/Get_protocols_general_tvl.ipynb#X10sZmlsZQ%3D%3D?line=7'>8</a>\u001b[0m        \u001b[39m'\u001b[39;49m\u001b[39mgovernanceID\u001b[39;49m\u001b[39m'\u001b[39;49m, \u001b[39m'\u001b[39;49m\u001b[39mgithub\u001b[39;49m\u001b[39m'\u001b[39;49m, \u001b[39m'\u001b[39;49m\u001b[39mparentProtocol\u001b[39;49m\u001b[39m'\u001b[39;49m,\n\u001b[0;32m      <a href='vscode-notebook-cell:/c%3A/Users/34633/Desktop/FE%20Design/jupyter_notebook/protocols/Get_protocols_general_tvl.ipynb#X10sZmlsZQ%3D%3D?line=8'>9</a>\u001b[0m        \u001b[39m'\u001b[39;49m\u001b[39mstaking\u001b[39;49m\u001b[39m'\u001b[39;49m, \u001b[39m'\u001b[39;49m\u001b[39mpool2\u001b[39;49m\u001b[39m'\u001b[39;49m]]\n",
      "File \u001b[1;32mc:\\Users\\34633\\AppData\\Local\\Programs\\Python\\Python310\\lib\\site-packages\\pandas\\core\\frame.py:3811\u001b[0m, in \u001b[0;36mDataFrame.__getitem__\u001b[1;34m(self, key)\u001b[0m\n\u001b[0;32m   3809\u001b[0m     \u001b[39mif\u001b[39;00m is_iterator(key):\n\u001b[0;32m   3810\u001b[0m         key \u001b[39m=\u001b[39m \u001b[39mlist\u001b[39m(key)\n\u001b[1;32m-> 3811\u001b[0m     indexer \u001b[39m=\u001b[39m \u001b[39mself\u001b[39;49m\u001b[39m.\u001b[39;49mcolumns\u001b[39m.\u001b[39;49m_get_indexer_strict(key, \u001b[39m\"\u001b[39;49m\u001b[39mcolumns\u001b[39;49m\u001b[39m\"\u001b[39;49m)[\u001b[39m1\u001b[39m]\n\u001b[0;32m   3813\u001b[0m \u001b[39m# take() does not accept boolean indexers\u001b[39;00m\n\u001b[0;32m   3814\u001b[0m \u001b[39mif\u001b[39;00m \u001b[39mgetattr\u001b[39m(indexer, \u001b[39m\"\u001b[39m\u001b[39mdtype\u001b[39m\u001b[39m\"\u001b[39m, \u001b[39mNone\u001b[39;00m) \u001b[39m==\u001b[39m \u001b[39mbool\u001b[39m:\n",
      "File \u001b[1;32mc:\\Users\\34633\\AppData\\Local\\Programs\\Python\\Python310\\lib\\site-packages\\pandas\\core\\indexes\\base.py:6108\u001b[0m, in \u001b[0;36mIndex._get_indexer_strict\u001b[1;34m(self, key, axis_name)\u001b[0m\n\u001b[0;32m   6105\u001b[0m \u001b[39melse\u001b[39;00m:\n\u001b[0;32m   6106\u001b[0m     keyarr, indexer, new_indexer \u001b[39m=\u001b[39m \u001b[39mself\u001b[39m\u001b[39m.\u001b[39m_reindex_non_unique(keyarr)\n\u001b[1;32m-> 6108\u001b[0m \u001b[39mself\u001b[39;49m\u001b[39m.\u001b[39;49m_raise_if_missing(keyarr, indexer, axis_name)\n\u001b[0;32m   6110\u001b[0m keyarr \u001b[39m=\u001b[39m \u001b[39mself\u001b[39m\u001b[39m.\u001b[39mtake(indexer)\n\u001b[0;32m   6111\u001b[0m \u001b[39mif\u001b[39;00m \u001b[39misinstance\u001b[39m(key, Index):\n\u001b[0;32m   6112\u001b[0m     \u001b[39m# GH 42790 - Preserve name from an Index\u001b[39;00m\n",
      "File \u001b[1;32mc:\\Users\\34633\\AppData\\Local\\Programs\\Python\\Python310\\lib\\site-packages\\pandas\\core\\indexes\\base.py:6171\u001b[0m, in \u001b[0;36mIndex._raise_if_missing\u001b[1;34m(self, key, indexer, axis_name)\u001b[0m\n\u001b[0;32m   6168\u001b[0m     \u001b[39mraise\u001b[39;00m \u001b[39mKeyError\u001b[39;00m(\u001b[39mf\u001b[39m\u001b[39m\"\u001b[39m\u001b[39mNone of [\u001b[39m\u001b[39m{\u001b[39;00mkey\u001b[39m}\u001b[39;00m\u001b[39m] are in the [\u001b[39m\u001b[39m{\u001b[39;00maxis_name\u001b[39m}\u001b[39;00m\u001b[39m]\u001b[39m\u001b[39m\"\u001b[39m)\n\u001b[0;32m   6170\u001b[0m not_found \u001b[39m=\u001b[39m \u001b[39mlist\u001b[39m(ensure_index(key)[missing_mask\u001b[39m.\u001b[39mnonzero()[\u001b[39m0\u001b[39m]]\u001b[39m.\u001b[39munique())\n\u001b[1;32m-> 6171\u001b[0m \u001b[39mraise\u001b[39;00m \u001b[39mKeyError\u001b[39;00m(\u001b[39mf\u001b[39m\u001b[39m\"\u001b[39m\u001b[39m{\u001b[39;00mnot_found\u001b[39m}\u001b[39;00m\u001b[39m not in index\u001b[39m\u001b[39m\"\u001b[39m)\n",
      "\u001b[1;31mKeyError\u001b[0m: \"['cmcId', 'mcap', 'treasury', 'audit_links', 'governanceID', 'github', 'parentProtocol', 'staking', 'pool2'] not in index\""
     ]
    }
   ],
   "source": [
    "# df = df[['id', 'name', 'address', 'symbol', 'url', 'description', 'chain',\n",
    "#        'logo', 'audits', 'gecko_id', 'cmcId', 'category',\n",
    "#        'module', 'twitter', 'listedAt',\n",
    "#        'slug', 'tvl', \n",
    "#        # 'chainTvls','chains','tokenBreakdowns', 'forkedFrom', 'oracles' Creates troble cuase its a dict \n",
    "#        'change_1h', 'change_1d', 'change_7d',\n",
    "#        'mcap', 'treasury', 'audit_links',\n",
    "#        'governanceID', 'github', 'parentProtocol',\n",
    "#        'staking', 'pool2']]"
   ]
  },
  {
   "cell_type": "code",
   "execution_count": 84,
   "id": "ee1f72d7",
   "metadata": {},
   "outputs": [
    {
     "data": {
      "text/plain": [
       "gecko_id       2051\n",
       "address        1119\n",
       "change_7d       724\n",
       "listedAt        637\n",
       "change_1d       624\n",
       "change_1h       616\n",
       "twitter          64\n",
       "audits           10\n",
       "description       1\n",
       "symbol            0\n",
       "url               0\n",
       "chain             0\n",
       "logo              0\n",
       "name              0\n",
       "category          0\n",
       "module            0\n",
       "slug              0\n",
       "tvl               0\n",
       "id                0\n",
       "dtype: int64"
      ]
     },
     "execution_count": 84,
     "metadata": {},
     "output_type": "execute_result"
    }
   ],
   "source": [
    "df.isna().sum().sort_values(ascending = False)\n",
    "\n",
    "# df.columns"
   ]
  },
  {
   "cell_type": "code",
   "execution_count": 83,
   "metadata": {},
   "outputs": [],
   "source": [
    "\n",
    "with connect_db('protocols_tvl') as connection:\n",
    "    df.to_sql('general', con=connection, if_exists='replace', index=False)\n",
    "    print(f'All data inserted into general')\n"
   ]
  },
  {
   "cell_type": "markdown",
   "metadata": {},
   "source": [
    "## Protocols. Actual TVL by Chain"
   ]
  },
  {
   "cell_type": "code",
   "execution_count": 85,
   "metadata": {},
   "outputs": [],
   "source": [
    "df = pd.DataFrame.from_dict(data, orient = 'Columns')"
   ]
  },
  {
   "cell_type": "code",
   "execution_count": 92,
   "metadata": {},
   "outputs": [
    {
     "name": "stdout",
     "output_type": "stream",
     "text": [
      "All data inserted into by_chain\n"
     ]
    }
   ],
   "source": [
    "with connect_db('protocols_tvl') as connection:\n",
    "    # Create an empty list to hold all the data\n",
    "    all_data = []\n",
    "\n",
    "    # Iterate through rows in the DataFrame\n",
    "    for index, row in df.iterrows():\n",
    "        name = row['slug']\n",
    "        chains_data = row['chainTvls']\n",
    "\n",
    "        # Convert the dictionary of values into a list of dictionaries with 'chain' and 'value' columns\n",
    "        chains_data_list = [{'chain': chain, 'value': value} for chain, value in chains_data.items()]\n",
    "\n",
    "        # Add the 'id' column to each dictionary\n",
    "        for data in chains_data_list:\n",
    "            data['id'] = name\n",
    "\n",
    "        # Extend the 'all_data' list with the current data\n",
    "        all_data.extend(chains_data_list)\n",
    "        # print(f'{name}')\n",
    "\n",
    "    # Create a DataFrame from the combined data\n",
    "    superbig_df = pd.DataFrame(all_data)\n",
    "    timestamp = datetime.now()\n",
    "    superbig_df['updated_at'] = timestamp\n",
    "\n",
    "    # Insert the combined data into the database as a single table\n",
    "    table_name = \"by_chain\"  # Choose a suitable table name\n",
    "    superbig_df.to_sql(table_name, con=connection, if_exists='replace')\n",
    "\n",
    "    print(f'All data inserted into {table_name}')"
   ]
  },
  {
   "cell_type": "code",
   "execution_count": null,
   "metadata": {},
   "outputs": [],
   "source": []
  },
  {
   "cell_type": "code",
   "execution_count": null,
   "metadata": {},
   "outputs": [],
   "source": []
  }
 ],
 "metadata": {
  "kernelspec": {
   "display_name": "Python 3 (ipykernel)",
   "language": "python",
   "name": "python3"
  },
  "language_info": {
   "codemirror_mode": {
    "name": "ipython",
    "version": 3
   },
   "file_extension": ".py",
   "mimetype": "text/x-python",
   "name": "python",
   "nbconvert_exporter": "python",
   "pygments_lexer": "ipython3",
   "version": "3.10.7"
  }
 },
 "nbformat": 4,
 "nbformat_minor": 5
}
