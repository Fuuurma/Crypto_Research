{
 "cells": [
  {
   "cell_type": "code",
   "execution_count": 13,
   "metadata": {},
   "outputs": [],
   "source": [
    "\n",
    "import nbimporter\n",
    "\n",
    "# from Database_connection.database_connection import connect_db\n",
    "import requests\n",
    "import pandas as pd\n",
    "import numpy as np\n",
    "from datetime import datetime\n",
    "from sqlalchemy import MetaData, create_engine"
   ]
  },
  {
   "cell_type": "code",
   "execution_count": 11,
   "metadata": {},
   "outputs": [],
   "source": [
    "# Temporal db Connection (Fix Route)\n",
    "def connect_db(database = 'coins'):\n",
    "    user='root'\n",
    "    password='240699'\n",
    "    host='localhost'\n",
    "    database = database\n",
    "    \n",
    "\n",
    "    # Connect to the database\n",
    "    engine = create_engine(f\"mysql+pymysql://{user}:{password}@{host}/{database}\")\n",
    "    try:\n",
    "        connection = engine.connect()\n",
    "        return connection\n",
    "    except Exception as e:\n",
    "        raise e"
   ]
  },
  {
   "cell_type": "markdown",
   "metadata": {},
   "source": [
    "## Historic TVL\n",
    "\n",
    "Date & Value"
   ]
  },
  {
   "cell_type": "code",
   "execution_count": 15,
   "metadata": {},
   "outputs": [],
   "source": [
    "response = requests.get('https://api.llama.fi/v2/historicalChainTvl')\n",
    "data = response.json()\n",
    "df = pd.DataFrame.from_dict(data, orient = 'Columns')\n",
    "df['date'] = pd.to_datetime(df['date'], unit='s')\n",
    "timestamp = datetime.now()\n",
    "df['updated_at'] = timestamp\n"
   ]
  },
  {
   "cell_type": "code",
   "execution_count": 16,
   "metadata": {},
   "outputs": [
    {
     "name": "stdout",
     "output_type": "stream",
     "text": [
      "Historical TVL inserted\n"
     ]
    }
   ],
   "source": [
    "with connect_db('protocols_tvl') as connection:\n",
    "    df.to_sql('historic', con = connection, if_exists='replace')\n",
    "    print('Historical TVL inserted')"
   ]
  }
 ],
 "metadata": {
  "kernelspec": {
   "display_name": "Python 3",
   "language": "python",
   "name": "python3"
  },
  "language_info": {
   "codemirror_mode": {
    "name": "ipython",
    "version": 3
   },
   "file_extension": ".py",
   "mimetype": "text/x-python",
   "name": "python",
   "nbconvert_exporter": "python",
   "pygments_lexer": "ipython3",
   "version": "3.10.7"
  }
 },
 "nbformat": 4,
 "nbformat_minor": 2
}
